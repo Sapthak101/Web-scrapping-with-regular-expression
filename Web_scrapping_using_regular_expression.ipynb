{
  "nbformat": 4,
  "nbformat_minor": 0,
  "metadata": {
    "colab": {
      "provenance": []
    },
    "kernelspec": {
      "name": "python3",
      "display_name": "Python 3"
    },
    "language_info": {
      "name": "python"
    }
  },
  "cells": [
    {
      "cell_type": "code",
      "source": [
        "import requests\n",
        "from bs4 import BeautifulSoup\n",
        "import re\n",
        "def scrape_bbc_news_headings(url):\n",
        "    response = requests.get(url, verify=False, headers={'User-Agent':'Mozilla/5.0'})\n",
        "    head=[]\n",
        "    i=0\n",
        "    print()\n",
        "    print()\n",
        "    if response.status_code == 200:\n",
        "        soup = BeautifulSoup(response.content, 'html.parser')\n",
        "\n",
        "        article_headings = soup.find_all('h2', class_=\"hdg3\")\n",
        "\n",
        "        for heading in article_headings:\n",
        "            heading_text = heading.get_text().strip()\n",
        "            clean_heading = re.sub(r'\\s+', ' ', heading_text)\n",
        "            head.append(clean_heading)\n",
        "\n",
        "        article_date = soup.find_all('div', class_=\"actionDiv flexElm topTime\")\n",
        "\n",
        "        for date in article_date:\n",
        "            news=\"News title: \"+head[i]\n",
        "            print(news)\n",
        "            i=i+1\n",
        "\n",
        "            heading_date = date.get_text().strip()\n",
        "            date_pattern = r'(\\b(?:Jan|Feb|Mar|Apr|May|Jun|Jul|Aug|Sep|Oct|Nov|Dec)\\s+\\d{1,2},\\s+\\d{4}\\b)'\n",
        "            location_pattern = r'([A-Za-z]+)'\n",
        "            date_match = re.search(date_pattern, heading_date)\n",
        "            location_match = re.search(location_pattern, heading_date)\n",
        "            date = date_match.group(0) if date_match else \"Date not found\"\n",
        "            location = location_match.group(0) if location_match else \"Location not found\"\n",
        "            print(\"News region/context:\", location)\n",
        "            print(\"News region/context:\", date)\n",
        "\n",
        "            print()\n",
        "    else:\n",
        "        print(\"Failed to retrieve data. Status code:\", response.status_code)\n",
        "\n",
        "url = \"https://www.hindustantimes.com\"\n",
        "\n",
        "scrape_bbc_news_headings(url)\n"
      ],
      "metadata": {
        "colab": {
          "base_uri": "https://localhost:8080/"
        },
        "id": "3g9xtCv5Au0l",
        "outputId": "89e8068f-f060-4ad3-bda1-fe39d5f8df64"
      },
      "execution_count": 60,
      "outputs": [
        {
          "output_type": "stream",
          "name": "stdout",
          "text": [
            "\n",
            "\n",
            "News title: Poonch civilian deaths: Army’s internal probe points at procedural lapses\n",
            "News region/context: Chandigarh\n",
            "News region/context: Apr 06, 2024\n",
            "\n",
            "News title: Will Prabhas, Deepika's Kalki 2898 AD be postponed due to Lok Sabha polls?\n",
            "News region/context: Bollywood\n",
            "News region/context: Apr 05, 2024\n",
            "\n",
            "News title: 'Coach says I'm making you guys win...': SRK's classic one-liner for KKR players\n",
            "News region/context: Cricket\n",
            "News region/context: Apr 05, 2024\n",
            "\n",
            "News title: Isla Fisher and Sacha Baron Cohen reveal they split in 2023, ‘Finally putting..’\n",
            "News region/context: Hollywood\n",
            "News region/context: Apr 06, 2024\n",
            "\n",
            "News title: Hidden word in AI-generated optical illusion surprises people. Can you spot it?\n",
            "News region/context: Trending\n",
            "News region/context: Apr 05, 2024\n",
            "\n",
            "News title: Bengaluru: Temperature to soar till Ugadi, rainfall after festival, says IMD\n",
            "News region/context: India\n",
            "News region/context: Apr 06, 2024\n",
            "\n",
            "News title: Horoscope Today: Astrological prediction for April 06, 2024\n",
            "News region/context: Horoscope\n",
            "News region/context: Apr 06, 2024\n",
            "\n",
            "News title: JEE Main 2024 Live: Shift 2 ends, check Shift 1 analysis here\n",
            "News region/context: education\n",
            "News region/context: Apr 05, 2024\n",
            "\n"
          ]
        },
        {
          "output_type": "stream",
          "name": "stderr",
          "text": [
            "/usr/local/lib/python3.10/dist-packages/urllib3/connectionpool.py:1100: InsecureRequestWarning: Unverified HTTPS request is being made to host 'www.hindustantimes.com'. Adding certificate verification is strongly advised. See: https://urllib3.readthedocs.io/en/latest/advanced-usage.html#tls-warnings\n",
            "  warnings.warn(\n"
          ]
        }
      ]
    },
    {
      "cell_type": "code",
      "source": [],
      "metadata": {
        "id": "-DYlvl1RHXhz"
      },
      "execution_count": null,
      "outputs": []
    }
  ]
}